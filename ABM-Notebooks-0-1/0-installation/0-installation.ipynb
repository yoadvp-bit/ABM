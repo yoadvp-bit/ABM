{
 "cells": [
  {
   "cell_type": "markdown",
   "metadata": {},
   "source": [
    "# Setup on your computer\n",
    "\n",
    "\n",
    "The notebooks for the tutorial and the assignments have been built and tested using **Python 3**. By using pipenv we create a virtual environment and aim to reduce the amount of errors due to differences in version.\n",
    "\n",
    "Install pipenv on your computer (i.e., `pip3 install pipenv`)\n",
    "- [Pipenv documentation](https://pipenv-fork.readthedocs.io/en/latest/basics.html)\n",
    "------\n",
    "\n",
    "Once succesfully installed, navigate to your folder where the pipfile and pipfile.lock are located and run the commands below. **Note that there is a more detailed installation guide available in the zipfile for Ubuntu and Windows.** \n",
    "- `pipenv install` will install all the packages that are required according to pipfile.lock\n",
    "- `pipenv shell` will create the virtual environment with all the required packages\n",
    "- `deactivate` will deactivate the virtual environment and should be followed by `exit`\n",
    "------\n",
    "\n",
    "Below the links to the documentation of the packages used:\n",
    "- [Mesa](https://mesa.readthedocs.io/en/master/)\n",
    "- [Ipynb](https://ipython.org/ipython-doc/1/interactive/notebook.html) \n",
    "- [Axelrod](https://axelrod.readthedocs.io/en/stable/)\n",
    "- [Ipython](https://ipython.readthedocs.io/en/stable/whatsnew/version6.html#ipython-6-2)\n",
    "- [Jupyter_console](https://pypi.org/project/jupyter_console/5.2.0/#history)\n",
    "- [Statsmodel](https://www.statsmodels.org/stable/index.html)\n",
    "- [SALib](https://salib.readthedocs.io/en/latest/) \n",
    "- [Pandas](https://pandas.pydata.org/)\n",
    "- [Numpy](https://pandas.pydata.org/)\n",
    "- [Matplotlib](https://pandas.pydata.org/)\n",
    "------\n",
    "\n",
    "After `pipenv install` has been completed, please run `pipenv shell` before you run `jupyter notebook`. Then ensure you are able to run the code without any errors. You should get the message `Everything installed!`.\n",
    "\n",
    "------\n",
    "\n",
    "**The following is strongly advised:**\n",
    "- Do not install any additional packages or use different variable names, unless specifically mentioned. This might cause the code that is used for checking to breakdown and you bearing the consequences:).\n",
    "- Everytime you start to work on the excercises, make sure you run `pipenv shell` before `jupyter notebook`.\n"
   ]
  },
  {
   "cell_type": "code",
   "execution_count": 1,
   "metadata": {},
   "outputs": [
    {
     "ename": "ModuleNotFoundError",
     "evalue": "No module named 'ipynb'",
     "output_type": "error",
     "traceback": [
      "\u001b[0;31m---------------------------------------------------------------------------\u001b[0m",
      "\u001b[0;31mModuleNotFoundError\u001b[0m                       Traceback (most recent call last)",
      "\u001b[1;32m/Users/mengeshi/Documents/GitHub/ABM-course/0-installation/0-installation.ipynb Cell 2\u001b[0m in \u001b[0;36m<cell line: 3>\u001b[0;34m()\u001b[0m\n\u001b[1;32m      <a href='vscode-notebook-cell:/Users/mengeshi/Documents/GitHub/ABM-course/0-installation/0-installation.ipynb#W1sZmlsZQ%3D%3D?line=0'>1</a>\u001b[0m \u001b[39mfrom\u001b[39;00m \u001b[39mIPython\u001b[39;00m\u001b[39m.\u001b[39;00m\u001b[39mdisplay\u001b[39;00m \u001b[39mimport\u001b[39;00m clear_output\n\u001b[1;32m      <a href='vscode-notebook-cell:/Users/mengeshi/Documents/GitHub/ABM-course/0-installation/0-installation.ipynb#W1sZmlsZQ%3D%3D?line=1'>2</a>\u001b[0m \u001b[39mimport\u001b[39;00m \u001b[39mmesa\u001b[39;00m\n\u001b[0;32m----> <a href='vscode-notebook-cell:/Users/mengeshi/Documents/GitHub/ABM-course/0-installation/0-installation.ipynb#W1sZmlsZQ%3D%3D?line=2'>3</a>\u001b[0m \u001b[39mimport\u001b[39;00m \u001b[39mipynb\u001b[39;00m\n\u001b[1;32m      <a href='vscode-notebook-cell:/Users/mengeshi/Documents/GitHub/ABM-course/0-installation/0-installation.ipynb#W1sZmlsZQ%3D%3D?line=3'>4</a>\u001b[0m \u001b[39mimport\u001b[39;00m \u001b[39maxelrod\u001b[39;00m\n\u001b[1;32m      <a href='vscode-notebook-cell:/Users/mengeshi/Documents/GitHub/ABM-course/0-installation/0-installation.ipynb#W1sZmlsZQ%3D%3D?line=4'>5</a>\u001b[0m \u001b[39mimport\u001b[39;00m \u001b[39mstatsmodels\u001b[39;00m\n",
      "\u001b[0;31mModuleNotFoundError\u001b[0m: No module named 'ipynb'"
     ]
    }
   ],
   "source": [
    "from IPython.display import clear_output\n",
    "import mesa\n",
    "import ipynb\n",
    "import axelrod\n",
    "import statsmodels\n",
    "import SALib\n",
    "import pandas\n",
    "import numpy\n",
    "import matplotlib\n",
    "clear_output(wait=True)\n",
    "print(\"Everything installed!\")"
   ]
  },
  {
   "cell_type": "code",
   "execution_count": null,
   "metadata": {},
   "outputs": [],
   "source": []
  }
 ],
 "metadata": {
  "kernelspec": {
   "display_name": "Python 3.10.2 64-bit",
   "language": "python",
   "name": "python3"
  },
  "language_info": {
   "codemirror_mode": {
    "name": "ipython",
    "version": 3
   },
   "file_extension": ".py",
   "mimetype": "text/x-python",
   "name": "python",
   "nbconvert_exporter": "python",
   "pygments_lexer": "ipython3",
   "version": "3.10.2 (v3.10.2:a58ebcc701, Jan 13 2022, 14:50:16) [Clang 13.0.0 (clang-1300.0.29.30)]"
  },
  "vscode": {
   "interpreter": {
    "hash": "aee8b7b246df8f9039afb4144a1f6fd8d2ca17a180786b69acc140d282b71a49"
   }
  }
 },
 "nbformat": 4,
 "nbformat_minor": 2
}
